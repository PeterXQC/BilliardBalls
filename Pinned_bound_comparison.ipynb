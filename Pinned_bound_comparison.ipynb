{
 "cells": [
  {
   "cell_type": "code",
   "execution_count": 1,
   "id": "1b27072d-1039-4306-91ee-3d95832ec10f",
   "metadata": {},
   "outputs": [],
   "source": [
    "import numpy as np\n",
    "import random\n",
    "import matplotlib.pyplot as plt\n",
    "import PBMethods as PM\n",
    "import pandas as pd\n",
    "import time\n",
    "\n",
    "plt.rc('text', usetex=True)\n",
    "plt.rc('font', family='serif')"
   ]
  },
  {
   "cell_type": "code",
   "execution_count": 2,
   "id": "9133870a-7319-409b-99ea-5c4cc929586f",
   "metadata": {},
   "outputs": [],
   "source": [
    "r = 1\n",
    "sample_size = 1000\n",
    "sizes = np.linspace(3, 500, 10)\n",
    "sizes = sizes.astype(int)\n",
    "pinned = np.zeros((sample_size, len(sizes)))\n",
    "moving = np.zeros(len(sizes))"
   ]
  },
  {
   "cell_type": "code",
   "execution_count": 3,
   "id": "7f83ca15-4ff8-49f0-b73b-6ed821a692a7",
   "metadata": {},
   "outputs": [],
   "source": [
    "# for j in np.arange(len(sizes)):\n",
    "#     # construct three branches of balls\n",
    "#     s = time.time()\n",
    "#     n = int(sizes[j])\n",
    "#     n1 = int(n//3)\n",
    "#     n2 = int(np.ceil(n/3))\n",
    "\n",
    "#     branchAx = [0]*n2\n",
    "#     branchAy = [0]\n",
    "#     branchBx = [np.sqrt(3)]\n",
    "\n",
    "#     for i in np.arange(n2-1):\n",
    "#         branchAy.append(branchAy[-1]-2)\n",
    "#     for i in np.arange(n1-1):\n",
    "#         branchBx.append(branchBx[-1]+np.sqrt(3))\n",
    "\n",
    "#     branchBy = branchBx/np.sqrt(3)\n",
    "#     branchCx = [-x for x in branchBx]\n",
    "#     branchCy = branchBy\n",
    "\n",
    "#     vAy = [np.exp(i) for i in range(n2)]\n",
    "\n",
    "#     # merge the three branches\n",
    "#     center_x = np.concatenate((branchAx, branchBx, branchCx), axis=0)\n",
    "#     center_y = np.concatenate((branchAy, branchBy, branchCy), axis=0)\n",
    "#     v_x = np.zeros(n)\n",
    "#     v_y = np.concatenate((vAy, np.zeros(2*n1)), axis=0)\n",
    "\n",
    "#     # run pinned model and obtain samples\n",
    "#     edges = PM.setup_edges(center_x, center_y, r)\n",
    "    \n",
    "\n",
    "#     for i in range(sample_size):\n",
    "#         pinned[i, j] = PM.pinned_random_model(edges, center_x, center_y, v_x, v_y, r, \"Plots/FixedModel\", False)\n",
    "        \n",
    "#     moving[j] = n1*(n1+1)*n2+n2*(n2-1)/2\n",
    "\n",
    "#     t = time.time()-s\n",
    "\n",
    "#     print(\"Obtained\", sample_size, \"samples with n =\", n, \", taking\", t, \"seconds.\")\n",
    "    \n",
    "# np.save(\"pinned\", pinned)"
   ]
  },
  {
   "cell_type": "code",
   "execution_count": 4,
   "id": "4706797b-0467-4cac-bdf6-93e1e3e5e50c",
   "metadata": {},
   "outputs": [],
   "source": [
    "pinned = np.load(\"pinned.npy\")"
   ]
  },
  {
   "cell_type": "code",
   "execution_count": 5,
   "id": "cf55985e-24c1-4b08-afae-554ec4e68532",
   "metadata": {},
   "outputs": [
    {
     "data": {
      "text/html": [
       "<div>\n",
       "<style scoped>\n",
       "    .dataframe tbody tr th:only-of-type {\n",
       "        vertical-align: middle;\n",
       "    }\n",
       "\n",
       "    .dataframe tbody tr th {\n",
       "        vertical-align: top;\n",
       "    }\n",
       "\n",
       "    .dataframe thead th {\n",
       "        text-align: right;\n",
       "    }\n",
       "</style>\n",
       "<table border=\"1\" class=\"dataframe\">\n",
       "  <thead>\n",
       "    <tr style=\"text-align: right;\">\n",
       "      <th></th>\n",
       "      <th>3</th>\n",
       "      <th>58</th>\n",
       "      <th>113</th>\n",
       "      <th>168</th>\n",
       "      <th>223</th>\n",
       "      <th>279</th>\n",
       "      <th>334</th>\n",
       "      <th>389</th>\n",
       "      <th>444</th>\n",
       "      <th>500</th>\n",
       "    </tr>\n",
       "  </thead>\n",
       "  <tbody>\n",
       "    <tr>\n",
       "      <th>count</th>\n",
       "      <td>1000.0</td>\n",
       "      <td>1000.000000</td>\n",
       "      <td>1000.000000</td>\n",
       "      <td>1000.000000</td>\n",
       "      <td>1000.000000</td>\n",
       "      <td>1000.000000</td>\n",
       "      <td>1000.000000</td>\n",
       "      <td>1000.00000</td>\n",
       "      <td>1000.000000</td>\n",
       "      <td>1000.000000</td>\n",
       "    </tr>\n",
       "    <tr>\n",
       "      <th>mean</th>\n",
       "      <td>2.0</td>\n",
       "      <td>426.593000</td>\n",
       "      <td>1038.942000</td>\n",
       "      <td>1905.794000</td>\n",
       "      <td>2988.358000</td>\n",
       "      <td>4103.142000</td>\n",
       "      <td>5324.976000</td>\n",
       "      <td>6569.83300</td>\n",
       "      <td>7874.114000</td>\n",
       "      <td>9372.086000</td>\n",
       "    </tr>\n",
       "    <tr>\n",
       "      <th>std</th>\n",
       "      <td>0.0</td>\n",
       "      <td>22.939564</td>\n",
       "      <td>28.671985</td>\n",
       "      <td>38.352033</td>\n",
       "      <td>52.028558</td>\n",
       "      <td>66.490517</td>\n",
       "      <td>93.776017</td>\n",
       "      <td>114.57251</td>\n",
       "      <td>142.475508</td>\n",
       "      <td>162.409727</td>\n",
       "    </tr>\n",
       "    <tr>\n",
       "      <th>min</th>\n",
       "      <td>2.0</td>\n",
       "      <td>352.000000</td>\n",
       "      <td>952.000000</td>\n",
       "      <td>1805.000000</td>\n",
       "      <td>2847.000000</td>\n",
       "      <td>3895.000000</td>\n",
       "      <td>5006.000000</td>\n",
       "      <td>6217.00000</td>\n",
       "      <td>7407.000000</td>\n",
       "      <td>8893.000000</td>\n",
       "    </tr>\n",
       "    <tr>\n",
       "      <th>25%</th>\n",
       "      <td>2.0</td>\n",
       "      <td>410.000000</td>\n",
       "      <td>1020.000000</td>\n",
       "      <td>1880.000000</td>\n",
       "      <td>2949.750000</td>\n",
       "      <td>4057.750000</td>\n",
       "      <td>5259.000000</td>\n",
       "      <td>6490.00000</td>\n",
       "      <td>7780.750000</td>\n",
       "      <td>9264.750000</td>\n",
       "    </tr>\n",
       "    <tr>\n",
       "      <th>50%</th>\n",
       "      <td>2.0</td>\n",
       "      <td>426.000000</td>\n",
       "      <td>1039.000000</td>\n",
       "      <td>1905.000000</td>\n",
       "      <td>2988.000000</td>\n",
       "      <td>4105.000000</td>\n",
       "      <td>5325.000000</td>\n",
       "      <td>6564.00000</td>\n",
       "      <td>7866.000000</td>\n",
       "      <td>9368.000000</td>\n",
       "    </tr>\n",
       "    <tr>\n",
       "      <th>75%</th>\n",
       "      <td>2.0</td>\n",
       "      <td>441.000000</td>\n",
       "      <td>1058.000000</td>\n",
       "      <td>1931.000000</td>\n",
       "      <td>3024.000000</td>\n",
       "      <td>4146.000000</td>\n",
       "      <td>5385.250000</td>\n",
       "      <td>6643.25000</td>\n",
       "      <td>7961.500000</td>\n",
       "      <td>9480.000000</td>\n",
       "    </tr>\n",
       "    <tr>\n",
       "      <th>max</th>\n",
       "      <td>2.0</td>\n",
       "      <td>496.000000</td>\n",
       "      <td>1139.000000</td>\n",
       "      <td>2030.000000</td>\n",
       "      <td>3171.000000</td>\n",
       "      <td>4302.000000</td>\n",
       "      <td>5643.000000</td>\n",
       "      <td>6951.00000</td>\n",
       "      <td>8350.000000</td>\n",
       "      <td>9853.000000</td>\n",
       "    </tr>\n",
       "  </tbody>\n",
       "</table>\n",
       "</div>"
      ],
      "text/plain": [
       "          3            58           113          168          223   \n",
       "count  1000.0  1000.000000  1000.000000  1000.000000  1000.000000  \\\n",
       "mean      2.0   426.593000  1038.942000  1905.794000  2988.358000   \n",
       "std       0.0    22.939564    28.671985    38.352033    52.028558   \n",
       "min       2.0   352.000000   952.000000  1805.000000  2847.000000   \n",
       "25%       2.0   410.000000  1020.000000  1880.000000  2949.750000   \n",
       "50%       2.0   426.000000  1039.000000  1905.000000  2988.000000   \n",
       "75%       2.0   441.000000  1058.000000  1931.000000  3024.000000   \n",
       "max       2.0   496.000000  1139.000000  2030.000000  3171.000000   \n",
       "\n",
       "               279          334         389          444          500  \n",
       "count  1000.000000  1000.000000  1000.00000  1000.000000  1000.000000  \n",
       "mean   4103.142000  5324.976000  6569.83300  7874.114000  9372.086000  \n",
       "std      66.490517    93.776017   114.57251   142.475508   162.409727  \n",
       "min    3895.000000  5006.000000  6217.00000  7407.000000  8893.000000  \n",
       "25%    4057.750000  5259.000000  6490.00000  7780.750000  9264.750000  \n",
       "50%    4105.000000  5325.000000  6564.00000  7866.000000  9368.000000  \n",
       "75%    4146.000000  5385.250000  6643.25000  7961.500000  9480.000000  \n",
       "max    4302.000000  5643.000000  6951.00000  8350.000000  9853.000000  "
      ]
     },
     "execution_count": 5,
     "metadata": {},
     "output_type": "execute_result"
    }
   ],
   "source": [
    "data = {name: pinned[:, i] for i, name in enumerate(sizes)}\n",
    "df = pd.DataFrame(data)\n",
    "df.describe()"
   ]
  },
  {
   "cell_type": "code",
   "execution_count": 6,
   "id": "65bd6855-d1c5-4b35-8455-3de8bad84d81",
   "metadata": {},
   "outputs": [],
   "source": [
    "x = np.zeros((sample_size, len(sizes)))\n",
    "for j in np.arange(len(sizes)):\n",
    "    x[:, j] = sizes[j]"
   ]
  },
  {
   "cell_type": "code",
   "execution_count": 7,
   "id": "12a92cba-df89-4ead-8f99-398661ec88b6",
   "metadata": {},
   "outputs": [],
   "source": [
    "x_flat = x.reshape(-1, 1)\n",
    "y_flat = pinned.reshape(-1, 1)"
   ]
  },
  {
   "cell_type": "code",
   "execution_count": 15,
   "id": "05a2c5d6-374b-4eec-be17-a7330a4e87b8",
   "metadata": {},
   "outputs": [
    {
     "data": {
      "image/png": "[encoded data removed]",
      "text/plain": [
       "<Figure size 640x480 with 1 Axes>"
      ]
     },
     "metadata": {},
     "output_type": "display_data"
    }
   ],
   "source": [
    "plt.plot(x_flat, y_flat, '.', label=\"Result\")\n",
    "plt.plot(np.linspace(0, 500, 100), np.linspace(0, 500, 100)**1.5/1.2)\n",
    "plt.legend()\n",
    "plt.xlabel(\"n\")\n",
    "plt.ylabel(\"Number of Collision\")\n",
    "plt.savefig(\"fig2.pdf\",dpi=300)\n",
    "\n",
    "\n",
    "plt.show()"
   ]
  },
  {
   "cell_type": "code",
   "execution_count": 9,
   "id": "618028eb-0e50-4ff6-b700-175067265329",
   "metadata": {},
   "outputs": [
    {
     "data": {
      "image/png": "[encoded data removed]",
      "text/plain": [
       "<Figure size 1000x500 with 10 Axes>"
      ]
     },
     "metadata": {},
     "output_type": "display_data"
    }
   ],
   "source": [
    "fig, axs = plt.subplots(1, len(df.columns), figsize=(10, 5), sharey=True)\n",
    "for i, col in enumerate(df.columns):\n",
    "    if i  == 0:\n",
    "        axs[i].hist(df[col], orientation='horizontal', bins = [1, 10])\n",
    "    else:\n",
    "        axs[i].hist(df[col], orientation='horizontal')\n",
    "    axs[i].set_title(f\"n = {col}\")\n",
    "    \n",
    "plt.subplots_adjust(wspace=0.4)\n",
    "fig.suptitle('Distribution')\n",
    "axs[0].set_ylabel('Number of Collision')\n",
    "plt.savefig(\"fig1.pdf\",dpi=300)\n",
    "plt.show()"
   ]
  },
  {
   "cell_type": "code",
   "execution_count": 10,
   "id": "2268a429-a5f7-4972-a60e-097682b516be",
   "metadata": {},
   "outputs": [
    {
     "data": {
      "text/plain": [
       "500"
      ]
     },
     "execution_count": 10,
     "metadata": {},
     "output_type": "execute_result"
    }
   ],
   "source": [
    "df.columns[i]"
   ]
  }
 ],
 "metadata": {
  "kernelspec": {
   "display_name": "Python 3 (ipykernel)",
   "language": "python",
   "name": "python3"
  },
  "language_info": {
   "codemirror_mode": {
    "name": "ipython",
    "version": 3
   },
   "file_extension": ".py",
   "mimetype": "text/x-python",
   "name": "python",
   "nbconvert_exporter": "python",
   "pygments_lexer": "ipython3",
   "version": "3.10.10"
  }
 },
 "nbformat": 4,
 "nbformat_minor": 5
}
