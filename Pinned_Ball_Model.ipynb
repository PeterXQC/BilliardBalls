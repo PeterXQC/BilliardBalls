{
 "cells": [
  {
   "cell_type": "code",
   "execution_count": 1,
   "metadata": {},
   "outputs": [],
   "source": [
    "import numpy as np"
   ]
  },
  {
   "cell_type": "code",
   "execution_count": 9,
   "metadata": {},
   "outputs": [],
   "source": [
    "# input cell\n",
    "r = 1\n",
    "center_x = [0, 2, 4, 6, 8]\n",
    "center_y = [0, 0, 0, 0, 0]\n",
    "v_x = [1, 1, 1, 1, 1]\n",
    "v_y = [0, 0, 0, 0, 0]"
   ]
  },
  {
   "cell_type": "code",
   "execution_count": 14,
   "metadata": {},
   "outputs": [],
   "source": [
    "# determine if two balls are touching\n",
    "edges = np.zeros((len(center_x), len(center_x)))\n",
    "\n",
    "# If ball n and ball m are touching, edges(n, m) = edges(m, n) = 1, else edges(n, m) = 0.\n",
    "# diagonal entries are automatically 0, as a ball is not allowed to collide with itself.\n",
    "for i in range(len(center_x)):\n",
    "    for j in range(len(center_x)):\n",
    "        center_i = [center_x[i], center_y[i]]\n",
    "        center_j = [center_x[j], center_y[j]]\n",
    "        if i != j:\n",
    "            if np.linalg.norm(np.subtract(center_i, center_j)) == 2*r:\n",
    "                edges[i, j] = 1\n",
    "                edges[j, i] = 1\n",
    "            elif np.linalg.norm(np.subtract(center_i, center_j)) < 2*r:\n",
    "                print(\"Overlapping detected. Double check input.\")"
   ]
  },
  {
   "cell_type": "code",
   "execution_count": 15,
   "metadata": {},
   "outputs": [
    {
     "data": {
      "text/plain": [
       "array([[0., 1., 0., 0., 0.],\n",
       "       [1., 0., 1., 0., 0.],\n",
       "       [0., 1., 0., 1., 0.],\n",
       "       [0., 0., 1., 0., 1.],\n",
       "       [0., 0., 0., 1., 0.]])"
      ]
     },
     "execution_count": 15,
     "metadata": {},
     "output_type": "execute_result"
    }
   ],
   "source": [
    "edges"
   ]
  },
  {
   "cell_type": "code",
   "execution_count": null,
   "metadata": {},
   "outputs": [],
   "source": []
  }
 ],
 "metadata": {
  "kernelspec": {
   "display_name": "Python 3",
   "language": "python",
   "name": "python3"
  },
  "language_info": {
   "codemirror_mode": {
    "name": "ipython",
    "version": 3
   },
   "file_extension": ".py",
   "mimetype": "text/x-python",
   "name": "python",
   "nbconvert_exporter": "python",
   "pygments_lexer": "ipython3",
   "version": "3.9.1"
  }
 },
 "nbformat": 4,
 "nbformat_minor": 4
}
