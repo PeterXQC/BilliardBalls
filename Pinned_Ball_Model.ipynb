{
 "cells": [
  {
   "cell_type": "code",
   "execution_count": 1,
   "metadata": {},
   "outputs": [],
   "source": [
    "import numpy as np\n",
    "import random\n",
    "import pandas as pd\n",
    "import matplotlib\n",
    "import matplotlib.pyplot as plt\n",
    "# matplotlib.use('Agg') # do not show plot without plt.show.\n",
    "import PBMethods as PM\n",
    "import time\n",
    "import glob\n",
    "from PIL import Image\n",
    "\n",
    "from IPython.display import clear_output\n",
    "def make_gif(frame_folder, name):\n",
    "    frames = [Image.open(image) for image in glob.glob(f\"{frame_folder}/*.png\")]\n",
    "    frame_one = frames[0]\n",
    "    frame_one.save(name + \".gif\", format=\"GIF\", append_images=frames,\n",
    "               save_all=True, duration=100, loop=0)\n",
    "    "
   ]
  },
  {
   "cell_type": "code",
   "execution_count": 2,
   "metadata": {},
   "outputs": [],
   "source": [
    "# setup_edgs with overlapping allowed. \n",
    "def rough_edges(center_x, center_y, r):\n",
    "    edges = np.zeros((len(center_x), len(center_x)))\n",
    "\n",
    "    # If ball n and ball m are touching, edges(n, m) = 1 only when n < m, else edges(n, m) = 0.\n",
    "    # diagonal entries are automatically 0, as a ball is not allowed to collide with itself.\n",
    "    for i in range(len(center_x)):\n",
    "        for j in range(i, len(center_x)):\n",
    "            x_i = np.array([center_x[i], center_y[i]])\n",
    "            x_j = np.array([center_x[j], center_y[j]])\n",
    "            if i != j:\n",
    "                # allow an error of 1e-15 to accomodate for numerical error\n",
    "                if np.linalg.norm(x_i-x_j) < (2*r + 1e-15):\n",
    "                    edges[i, j] = 1\n",
    "    return edges\n",
    "\n",
    "# def pairwise_collidable(i, j, center_x, center_y, v_x, v_y, r):\n",
    "#     if v_x[i] == 0:\n",
    "# #         if i have no velocity, we skip, as i and j will be tested in both directions\n",
    "#         if v_y[i] != 0:\n",
    "# #             if i's velocity is vertical, the test case below should suffice\n",
    "#             sameSign = (v_y[i] * (center_y[j]-center_y[i])) > 0\n",
    "#             if i != j and np.abs(center_x[j]) < (2*r + 1e-15) and sameSign:\n",
    "#                 return True    \n",
    "#     elif v_x[j] == 0 and v_y[j] == 0:\n",
    "# #         if j has no velocity, \n",
    "#         slope = v_y[i]/v_x[i]\n",
    "#         distance = np.abs(-slope*center_x[j]+center_y[j]-center_y[i]+slope*center_x[i])/np.sqrt(slope**2+1)\n",
    "#         if distance < (2*r + 1e-15):\n",
    "#             return True\n",
    "    \n",
    "# # #     find hit point\n",
    "# # #     We construct the trajectory of ball i and the center of ball j projected to the trajectory of ball i\n",
    "# #     x_hit = (c3+slope * c4 + slope**2*c1-slope*c2)/(slope**2+1)\n",
    "    \n",
    "\n",
    "def pairwise_collidable(i, j, center_x, center_y, v_x, v_y, r):\n",
    "#     find x coord for intersection of trajectory\n",
    "\n",
    "# check when both balls have vertical trajectory\n",
    "    x = 0\n",
    "    x_s = 0\n",
    "    x_e = 0\n",
    "    t_s = 0\n",
    "    t_e = 0\n",
    "    moving_ball = 0\n",
    "    target_ball = 0\n",
    "    \n",
    "    if v_x[i] == 0 and v_x[j] == 0:\n",
    "#         both vertical, no collision. \n",
    "        if abs(center_x[i] - center_x[j]) > 2*r:\n",
    "#             no collision: too far\n",
    "            return False\n",
    "        else:\n",
    "#             giving in suitable distance\n",
    "#             lower ball move up, higher ball move down faster, or two ball move toward each other. Can collied. Otherwise no collide\n",
    "            return (v_y[i] - v_y[j])*(center_y[i] - center_y[j]) < 0\n",
    "# if only one ball have vertical trajectory, collision will happen and must happen at that x value,\n",
    "    elif v_x[i] == 0:\n",
    "        s_j = v_y[j]/v_x[j]\n",
    "        if v_y[i] == 0:\n",
    "            distance = np.abs(-s_j*center_x[i]+center_y[i]-center_y[j]+s_j*center_x[j])/np.sqrt(s_j**2+1)\n",
    "            return distance < 2*r\n",
    "        x = center_x[i]\n",
    "        x_s = x - np.sign(v_x[j])*np.sqrt(((2*r)**2)/(s_j**2+1))\n",
    "        x_e = x + np.sign(v_x[j])*np.sqrt(((2*r)**2)/(s_j**2+1))\n",
    "        t_s = (x_s-center_x[j])/v_x[j]\n",
    "        t_e = (x_e-center_x[j])/v_x[j]\n",
    "        moving_ball = i\n",
    "        target_ball = j\n",
    "        y_offset = np.sqrt(1/(1+1/s_j**2))\n",
    "    \n",
    "    elif v_x[j] == 0:\n",
    "        s_i = v_y[i]/v_x[i]\n",
    "        if v_y[j] == 0:\n",
    "            distance = np.abs(-s_i*center_x[j]+center_y[j]-center_y[i]+s_i*center_x[i])/np.sqrt(s_i**2+1)\n",
    "            return distance < 2*r\n",
    "        x = center_x[j]\n",
    "        x_s = x - np.sign(v_x[i])*np.sqrt(((2*r)**2)/(s_i**2+1))\n",
    "        x_e = x + np.sign(v_x[i])*np.sqrt(((2*r)**2)/(s_i**2+1))\n",
    "        t_s = (x_s-center_x[i])/v_x[i]\n",
    "        t_e = (x_e-center_x[i])/v_x[i]\n",
    "        moving_ball = j\n",
    "        target_ball = i\n",
    "        y_offset = np.sqrt(1/(1+1/s_i**2))\n",
    "    \n",
    "    else:\n",
    "#         in this case, none have vertical trajectory, safe to compute slope\n",
    "        s_i = v_y[i]/v_x[i]\n",
    "        s_j = v_y[j]/v_x[j]\n",
    "        \n",
    "        if s_i == s_j:\n",
    "#             if the two trajectories are parallel, check distance between line and direction of movement\n",
    "#             much like in the first case. \n",
    "\n",
    "#             distance between the two trajectories\n",
    "            d = abs(center_y[i] - center_y[j]) / ((s_i**2) + 1);\n",
    "            if abs(d) > 2*r:\n",
    "                return False\n",
    "            else:\n",
    "#             giving in suitable distance, test x velocity indicates the direction and speed the ball is moving at relatively to eachother.\n",
    "                return (v_x[i] - v_x[j])*(center_x[i] - center_x[j]) < 0\n",
    "\n",
    "#         if the two balls are not parallel, at least one have non-zero slope. \n",
    "        else:\n",
    "            if s_i != 0:\n",
    "#             two ball not parallel, not vertical. Find x value for intersection. \n",
    "                x = (s_j*(x-center_x[j]) + center_y[j]-center_y[i])/s_i+center_x[i]\n",
    "    \n",
    "            else:\n",
    "#             two ball not parallel, not vertical. Find x value for intersection. \n",
    "                x = (s_i*(x-center_x[i]) + center_y[i]-center_y[j])/s_j+center_x[j]\n",
    "            x_s = x - np.sign(v_x[i])*np.sqrt(((2*r)**2)/(s_i**2+1))\n",
    "            x_e = x + np.sign(v_x[i])*np.sqrt(((2*r)**2)/(s_i**2+1))\n",
    "            t_s = (x_s-center_x[i])/v_x[i]\n",
    "            t_e = (x_e-center_x[i])/v_x[i]\n",
    "            moving_ball = j\n",
    "            target_ball = i\n",
    "            y_offset = np.sqrt(((2*r)**2)/(1+1/s_i**2))\n",
    "\n",
    "            \n",
    "    return hit_tester(t_s, t_e, moving_ball, target_ball, y_offset, center_x, center_y, v_x, v_y, r)\n",
    "\n",
    "# def hit_tester(t_s, t_e, moving_ball, target_ball, y_offset, center_x, center_y, v_x, v_y, r):\n",
    "#     target_y = center_y[target_ball] + v_y[target_ball] * (t_s+t_e)/2 - y_offset*np.sign(v_y[target_ball])\n",
    "#     m_ys = center_y[moving_ball] + v_y[moving_ball] * t_s\n",
    "#     m_ye = center_y[moving_ball] + v_y[moving_ball] * t_e\n",
    "#     return (m_ys - target_y) * (m_ye - target_y) < 0\n",
    "\n",
    "def collidable(center_x, center_y, v_x, v_y, r):\n",
    "    for i in range(len(center_x)):\n",
    "        for j in range(i+1, len(center_x)):\n",
    "            if pairwise_collidable(i, j, center_x, center_y, v_x, v_y, r):\n",
    "                return True\n",
    "            \n",
    "    return False\n",
    "\n",
    "def moving_ball_model(center_x, center_y, v_x, v_y, r, steps, location = \"\", save = False):\n",
    "#     default to not save. Default save location is current directory.\n",
    "    xs = [center_x]\n",
    "    ys = [center_y]\n",
    "\n",
    "    this_x = np.copy(v_x).astype('float64')\n",
    "    this_y = np.copy(v_y).astype('float64')\n",
    "    v_xs = [this_x]\n",
    "    v_ys = [this_y]\n",
    "\n",
    "    step = 0\n",
    "    collide_count = 0\n",
    "    resolution = 0.05\n",
    "    while step < steps:\n",
    "    #     collide\n",
    "        edges = rough_edges(center_x, center_y, r)\n",
    "        collide = PM.all_collision(edges, center_x, center_y, this_x, this_y, r)\n",
    "\n",
    "        if len(collide) > 0:\n",
    "            rand = random.randint(0, len(collide)-1)\n",
    "            collide_count += 1\n",
    "            i = collide[rand][0]\n",
    "            j = collide[rand][1]\n",
    "            this_x, this_y = PM.perform_collision(i, j, edges, center_x, center_y, this_x, this_y)\n",
    "\n",
    "    #     move\n",
    "        v_xs.append(this_x)\n",
    "        v_ys.append(this_y)\n",
    "        step += 1\n",
    "        center_x = this_x*resolution + center_x\n",
    "        center_y = this_y*resolution + center_y\n",
    "        xs.append(center_x)\n",
    "        ys.append(center_y)\n",
    "        \n",
    "    if save:\n",
    "        fig, ax = plt.subplots(1, 1, figsize = (20, 20))\n",
    "        for i in range(step):\n",
    "            PM.visualize(xs[i], ys[i], v_xs[i], v_ys[i], r, ax)\n",
    "            plt.savefig(location + \"/\" + str(i) + \".png\")\n",
    "            plt.cla()\n",
    "\n",
    "    return collide_count\n",
    "\n",
    "def forward_to_collision(center_x, center_y, v_x, v_y, r):\n",
    "    if not collidable(center_x, center_y, v_x, v_y, r):\n",
    "        print(\"System cannot collide.\")\n",
    "        return 0\n",
    "    else:\n",
    "        itr = 0\n",
    "        edges = rough_edges(center_x, center_y, r)\n",
    "        while len(PM.all_collision(edges, center_x, center_y, v_x, v_y, r)) == 0:\n",
    "            itr = itr+1\n",
    "            center_x = v_x*0.05 + center_x\n",
    "            center_y = v_y*0.05 + center_y\n",
    "            edges = rough_edges(center_x, center_y, r)\n",
    "        return center_x, center_y"
   ]
  },
  {
   "cell_type": "code",
   "execution_count": 3,
   "metadata": {},
   "outputs": [],
   "source": [
    "# r = 1\n",
    "# delta = 0.01\n",
    "# center_x = np.array([3, 2, 4, 1, 3, 5 ,0, 2, 4, 6, 3, 2, 4, 1, 3, 5])\n",
    "# center_y = np.array([3*np.sqrt(3), 2*np.sqrt(3), 2*np.sqrt(3), np.sqrt(3), np.sqrt(3), np.sqrt(3), 0, 0, 0, 0, -3*np.sqrt(3), -2*np.sqrt(3), -2*np.sqrt(3), -np.sqrt(3), -np.sqrt(3), -np.sqrt(3)])\n",
    "# v_x = np.array([0, 0, 0, 0, 0, 0, 0, 0, 0, 0, 0, 0, 0, 0, 0, 0])\n",
    "# v_y = np.array([0, 0, 0, 0, 0, 0, 0, 0, 0, 0, 0, 0, 0, 0, 0, 1])\n",
    "# steps = 110\n",
    "\n",
    "# s = time.time()\n",
    "# collide_count = moving_ball_model(center_x, center_y, v_x, v_y, r, steps, \"Plots/MovingModel/1\", True)\n",
    "# t = time.time()-s\n",
    "# print('Total number of collisions when considered as a moving ball model:', collide_count)\n",
    "# print(\"Moving model executed\", steps, \"time steps, taking\", t, \"seconds.\")\n",
    "\n",
    "# s1 = time.time()\n",
    "# edges = rough_edges(center_x, center_y, r)\n",
    "# step = PM.pinned_random_model(edges, center_x, center_y, v_x, v_y, r, \"Plots/FixedModel/1\", True)\n",
    "# t1 = time.time()-s1\n",
    "# print(\"Total number of collisions when considered as a fixed ball model:\", step)\n",
    "# print(\"Fixed model taking\", t1, \"seconds.\")\n",
    "\n",
    "# # Make a GIF for visualization\n",
    "# make_gif(\"Plots/MovingModel/1\", \"moving_example\")\n",
    "# make_gif(\"Plots/FixedModel/1\", \"pinned_example\")"
   ]
  },
  {
   "cell_type": "code",
   "execution_count": 4,
   "metadata": {},
   "outputs": [],
   "source": [
    "sampler = 1\n",
    "samplecenter_x = np.array([3, 2, 4, 1, 3, 5 ,0, 2, 4, 6, 3, 2, 4, 1, 3, 5])\n",
    "samplecenter_y = np.array([3*np.sqrt(3), 2*np.sqrt(3), 2*np.sqrt(3), np.sqrt(3), np.sqrt(3), np.sqrt(3), 0, 0, 0, 0, -3*np.sqrt(3), -2*np.sqrt(3), -2*np.sqrt(3), -np.sqrt(3), -np.sqrt(3), -np.sqrt(3)])\n",
    "samplev_x = np.array([0, 0, 0, 0, 0, 0, 0, 0, 0, 0, 0, 0, 0, 0, 0, 0])\n",
    "samplev_y = np.array([0, 0, 0, 0, 0, 0, 0, 0, 0, 0, 0, 0, 0, 0, 0, 1])\n",
    "sampleedges = rough_edges(samplecenter_x, samplecenter_y, sampler)"
   ]
  },
  {
   "cell_type": "code",
   "execution_count": 5,
   "metadata": {},
   "outputs": [
    {
     "name": "stdout",
     "output_type": "stream",
     "text": [
      "Obtained 1000 moving samples, taking 57.45214557647705 seconds.\n"
     ]
    }
   ],
   "source": [
    "# Let's do some statistical analysis\n",
    "# We collect: total collision, \n",
    "r = 1\n",
    "center_x = np.array([3, 2, 4, 1, 3, 5 ,0, 2, 4, 6, 3, 2, 4, 1, 3, 5])\n",
    "center_y = np.array([3*np.sqrt(3), 2*np.sqrt(3), 2*np.sqrt(3), np.sqrt(3), np.sqrt(3), np.sqrt(3), 0, 0, 0, 0, -3*np.sqrt(3), -2*np.sqrt(3), -2*np.sqrt(3), -np.sqrt(3), -np.sqrt(3), -np.sqrt(3)])\n",
    "v_x = np.array([0, 0, 0, 0, 0, 0, 0, 0, 0, 0, 0, 0, 0, 0, 0, 0])\n",
    "v_y = np.array([0, 0, 0, 0, 0, 0, 0, 0, 0, 0, 0, 0, 0, 0, 0, 1])\n",
    "    \n",
    "sample_size = 1000\n",
    "moving = np.zeros(sample_size)\n",
    "steps = 100\n",
    "\n",
    "s = time.time()\n",
    "for i in range(sample_size):\n",
    "    moving[i] = moving_ball_model(center_x, center_y, v_x, v_y, r, steps, \"Plots/MovingModel/1\")\n",
    "t = time.time() - s\n",
    "\n",
    "print(\"Obtained\", sample_size, \"moving samples, taking\", t, \"seconds.\")"
   ]
  },
  {
   "cell_type": "code",
   "execution_count": 6,
   "metadata": {},
   "outputs": [
    {
     "name": "stdout",
     "output_type": "stream",
     "text": [
      "Obtained 1000 pinned samples, taking 1.7574050426483154 seconds.\n"
     ]
    }
   ],
   "source": [
    "# Let's do some statistical analysis\n",
    "# We collect: total collision, \n",
    "r = 1\n",
    "center_x = np.array([3, 2, 4, 1, 3, 5 ,0, 2, 4, 6, 3, 2, 4, 1, 3, 5])\n",
    "center_y = np.array([3*np.sqrt(3), 2*np.sqrt(3), 2*np.sqrt(3), np.sqrt(3), np.sqrt(3), np.sqrt(3), 0, 0, 0, 0, -3*np.sqrt(3), -2*np.sqrt(3), -2*np.sqrt(3), -np.sqrt(3), -np.sqrt(3), -np.sqrt(3)])\n",
    "v_x = np.array([0, 0, 0, 0, 0, 0, 0, 0, 0, 0, 0, 0, 0, 0, 0, 0])\n",
    "v_y = np.array([0, 0, 0, 0, 0, 0, 0, 0, 0, 0, 0, 0, 0, 0, 0, 1])\n",
    "edges = rough_edges(center_x, center_y, r)\n",
    "    \n",
    "sample_size = 1000\n",
    "pinned = np.zeros(sample_size)\n",
    "\n",
    "s = time.time()\n",
    "for i in range(sample_size):\n",
    "#     print(i)\n",
    "    num_collide, _, _ = PM.random_run(center_x, center_y, v_x, v_y, r, edges)\n",
    "    pinned[i] = len(num_collide)-1\n",
    "t = time.time() - s\n",
    "\n",
    "print(\"Obtained\", sample_size, \"pinned samples, taking\", t, \"seconds.\")"
   ]
  },
  {
   "cell_type": "code",
   "execution_count": 7,
   "metadata": {},
   "outputs": [],
   "source": [
    "data = np.zeros((sample_size, 2))\n",
    "data[:, 0] = pinned\n",
    "data[:, 1] = moving"
   ]
  },
  {
   "cell_type": "code",
   "execution_count": 8,
   "metadata": {},
   "outputs": [
    {
     "data": {
      "text/html": [
       "<div>\n",
       "<style scoped>\n",
       "    .dataframe tbody tr th:only-of-type {\n",
       "        vertical-align: middle;\n",
       "    }\n",
       "\n",
       "    .dataframe tbody tr th {\n",
       "        vertical-align: top;\n",
       "    }\n",
       "\n",
       "    .dataframe thead th {\n",
       "        text-align: right;\n",
       "    }\n",
       "</style>\n",
       "<table border=\"1\" class=\"dataframe\">\n",
       "  <thead>\n",
       "    <tr style=\"text-align: right;\">\n",
       "      <th></th>\n",
       "      <th>pinned</th>\n",
       "      <th>moving</th>\n",
       "    </tr>\n",
       "  </thead>\n",
       "  <tbody>\n",
       "    <tr>\n",
       "      <th>count</th>\n",
       "      <td>1000.000000</td>\n",
       "      <td>1000.000000</td>\n",
       "    </tr>\n",
       "    <tr>\n",
       "      <th>mean</th>\n",
       "      <td>6.762000</td>\n",
       "      <td>24.478000</td>\n",
       "    </tr>\n",
       "    <tr>\n",
       "      <th>std</th>\n",
       "      <td>6.357655</td>\n",
       "      <td>3.497392</td>\n",
       "    </tr>\n",
       "    <tr>\n",
       "      <th>min</th>\n",
       "      <td>1.000000</td>\n",
       "      <td>15.000000</td>\n",
       "    </tr>\n",
       "    <tr>\n",
       "      <th>25%</th>\n",
       "      <td>2.000000</td>\n",
       "      <td>22.000000</td>\n",
       "    </tr>\n",
       "    <tr>\n",
       "      <th>50%</th>\n",
       "      <td>5.000000</td>\n",
       "      <td>25.000000</td>\n",
       "    </tr>\n",
       "    <tr>\n",
       "      <th>75%</th>\n",
       "      <td>9.000000</td>\n",
       "      <td>27.000000</td>\n",
       "    </tr>\n",
       "    <tr>\n",
       "      <th>max</th>\n",
       "      <td>37.000000</td>\n",
       "      <td>36.000000</td>\n",
       "    </tr>\n",
       "  </tbody>\n",
       "</table>\n",
       "</div>"
      ],
      "text/plain": [
       "            pinned       moving\n",
       "count  1000.000000  1000.000000\n",
       "mean      6.762000    24.478000\n",
       "std       6.357655     3.497392\n",
       "min       1.000000    15.000000\n",
       "25%       2.000000    22.000000\n",
       "50%       5.000000    25.000000\n",
       "75%       9.000000    27.000000\n",
       "max      37.000000    36.000000"
      ]
     },
     "execution_count": 8,
     "metadata": {},
     "output_type": "execute_result"
    }
   ],
   "source": [
    "df = pd.DataFrame(data, columns = [\"pinned\", \"moving\"])\n",
    "df.describe()"
   ]
  },
  {
   "cell_type": "code",
   "execution_count": 9,
   "metadata": {},
   "outputs": [
    {
     "data": {
      "text/plain": [
       "<AxesSubplot: >"
      ]
     },
     "execution_count": 9,
     "metadata": {},
     "output_type": "execute_result"
    },
    {
     "data": {
      "image/png": "[encoded data removed]",
      "text/plain": [
       "<Figure size 432x288 with 1 Axes>"
      ]
     },
     "metadata": {
      "needs_background": "light"
     },
     "output_type": "display_data"
    }
   ],
   "source": [
    "df.boxplot()"
   ]
  },
  {
   "cell_type": "code",
   "execution_count": 10,
   "metadata": {},
   "outputs": [],
   "source": [
    "data1 = np.concatenate((data[:, 0], data[:, 1]))\n",
    "height = np.concatenate((np.zeros(sample_size) + 1, np.zeros(sample_size) - 1))"
   ]
  },
  {
   "cell_type": "code",
   "execution_count": 11,
   "metadata": {},
   "outputs": [
    {
     "data": {
      "text/plain": [
       "[<matplotlib.lines.Line2D at 0x147066aa3d00>]"
      ]
     },
     "execution_count": 11,
     "metadata": {},
     "output_type": "execute_result"
    },
    {
     "data": {
      "image/png": "[encoded data removed]",
      "text/plain": [
       "<Figure size 640x480 with 1 Axes>"
      ]
     },
     "metadata": {},
     "output_type": "display_data"
    }
   ],
   "source": [
    "plt.plot(data1, height, 'x')"
   ]
  },
  {
   "cell_type": "code",
   "execution_count": null,
   "metadata": {},
   "outputs": [],
   "source": []
  }
 ],
 "metadata": {
  "kernelspec": {
   "display_name": "Python 3",
   "language": "python",
   "name": "python3"
  },
  "language_info": {
   "codemirror_mode": {
    "name": "ipython",
    "version": 3
   },
   "file_extension": ".py",
   "mimetype": "text/x-python",
   "name": "python",
   "nbconvert_exporter": "python",
   "pygments_lexer": "ipython3",
   "version": "3.9.1"
  }
 },
 "nbformat": 4,
 "nbformat_minor": 4
}
