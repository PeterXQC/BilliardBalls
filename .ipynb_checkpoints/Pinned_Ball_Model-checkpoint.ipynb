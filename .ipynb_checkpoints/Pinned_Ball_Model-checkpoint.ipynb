{
 "cells": [
  {
   "cell_type": "code",
   "execution_count": 1,
   "metadata": {},
   "outputs": [],
   "source": [
    "import numpy as np\n",
    "import random"
   ]
  },
  {
   "cell_type": "code",
   "execution_count": 2,
   "metadata": {},
   "outputs": [],
   "source": [
    "# input cell\n",
    "r = 1\n",
    "center_x = [0, 2, 4]\n",
    "center_y = [0, 0, 0]\n",
    "v_x = [1, 0, -1]\n",
    "v_y = [0, 0, 0]"
   ]
  },
  {
   "cell_type": "code",
   "execution_count": 3,
   "metadata": {},
   "outputs": [],
   "source": [
    "# determine if two balls are touching\n",
    "def setup_edges(center_x, center_y):\n",
    "    edges = np.zeros((len(center_x), len(center_x)))\n",
    "\n",
    "    # If ball n and ball m are touching, edges(n, m) = 1 only when n < m, else edges(n, m) = 0.\n",
    "    # diagonal entries are automatically 0, as a ball is not allowed to collide with itself.\n",
    "    for i in range(len(center_x)):\n",
    "        for j in range(i, len(center_x)):\n",
    "            x_i = np.array([center_x[i], center_y[i]])\n",
    "            x_j = np.array([center_x[j], center_y[j]])\n",
    "            if i != j:\n",
    "                if np.linalg.norm(x_i-x_j) == 2*r:\n",
    "                    edges[i, j] = 1\n",
    "                elif np.linalg.norm(x_i-x_j) < 2*r:\n",
    "                    print(\"Overlapping detected. Double check input.\")\n",
    "    return edges\n",
    "\n",
    "# check if ball i and ball j are allowed to have collisions. \n",
    "def check_collision(i, j, edges, center_x, center_y, v_x, v_y, debug):\n",
    "    if edges[i, j] != 1:\n",
    "        if debug:\n",
    "            print(\"No collision between\", i, j, \", balls not touching.\")\n",
    "        return 0\n",
    "    else:\n",
    "        x_i = np.array([center_x[i], center_y[i]])\n",
    "        x_j = np.array([center_x[j], center_y[j]])\n",
    "        v_i = np.array([v_x[i], v_y[i]])\n",
    "        v_j = np.array([v_x[j], v_y[j]])\n",
    "        \n",
    "        if np.dot(v_i-v_j, x_i-x_j) >= 0:\n",
    "            if debug:\n",
    "                print(\"No collision between\", i, j, \", bad direction.\")\n",
    "            return 0\n",
    "        else:\n",
    "            return 1\n",
    "\n",
    "# if i, j collide, this method will assign them new velocity\n",
    "def v_change(i, j, edges, center_x, center_y, v_x, v_y):\n",
    "    x_i = np.array([center_x[i], center_y[i]])\n",
    "    x_j = np.array([center_x[j], center_y[j]])\n",
    "    u = (x_i - x_j)/np.linalg.norm(x_i - x_j)\n",
    "    v_i = np.array([v_x[i], v_y[i]])\n",
    "    v_j = np.array([v_x[j], v_y[j]])\n",
    "    w_i = v_i + np.dot(v_j, u)*u - np.dot(v_i, u)*u\n",
    "    w_j = v_j + np.dot(v_i, u)*u - np.dot(v_j, u)*u\n",
    "    return w_i, w_j\n",
    "\n",
    "# compute all collisions that can happen at a point based on the updated velocity\n",
    "def all_collision(edges, center_x, center_y, v_x, v_y, debug):\n",
    "    contact = np.where(setup_edges(center_x, center_y) == 1)\n",
    "    collide = []\n",
    "    for i in range(len(contact[0])):\n",
    "        if check_collision(contact[0][i], contact[1][i], edges, center_x, center_y, v_x, v_y, debug) == 1:\n",
    "            collide.append([contact[0][i], contact[1][i]])\n",
    "    return collide\n",
    "\n",
    "def perform_collision(i, j, edges, center_x, center_y, v_x, v_y):\n",
    "    print(\"Perform collision between:\", i, j)\n",
    "    w_i, w_j = v_change(i, j, edges, center_x, center_y, v_x, v_y)\n",
    "    v_x[i] = w_i[0]\n",
    "    v_y[i] = w_i[1]\n",
    "    v_x[j] = w_j[0]\n",
    "    v_y[j] = w_j[1]\n",
    "    print(\"New set of velocity:\", v_x, v_y)"
   ]
  },
  {
   "cell_type": "code",
   "execution_count": 4,
   "metadata": {},
   "outputs": [
    {
     "name": "stdout",
     "output_type": "stream",
     "text": [
      "Step 0 collision can happen between [[0, 1], [1, 2]]\n",
      "Perform collision between: 1 2\n",
      "New set of velocity: [1, -1.0, 0.0] [0, 0.0, 0.0]\n",
      "Step 1 collision can happen between [[0, 1]]\n",
      "Perform collision between: 0 1\n",
      "New set of velocity: [-1.0, 1.0, 0.0] [0.0, 0.0, 0.0]\n",
      "Step 2 collision can happen between [[1, 2]]\n",
      "Perform collision between: 1 2\n",
      "New set of velocity: [-1.0, 0.0, 1.0] [0.0, 0.0, 0.0]\n",
      "Total Collision: 3\n"
     ]
    }
   ],
   "source": [
    "edges = setup_edges(center_x, center_y)\n",
    "collide = all_collision(edges, center_x, center_y, v_x, v_y, False)\n",
    "step = 0\n",
    "while len(collide) > 0:\n",
    "    print(\"Step\", step, \"collision can happen between\", collide)\n",
    "    this_collide = random.randint(0, len(collide)-1)\n",
    "    \n",
    "    i = collide[this_collide][0]\n",
    "    j = collide[this_collide][1]\n",
    "    perform_collision(i, j, edges, center_x, center_y, v_x, v_y)\n",
    "    \n",
    "    edges = setup_edges(center_x, center_y)\n",
    "    collide = all_collision(edges, center_x, center_y, v_x, v_y, False)\n",
    "    step += 1\n",
    "print(\"Total Collision:\", step)"
   ]
  },
  {
   "cell_type": "code",
   "execution_count": null,
   "metadata": {},
   "outputs": [],
   "source": []
  }
 ],
 "metadata": {
  "kernelspec": {
   "display_name": "Python 3",
   "language": "python",
   "name": "python3"
  },
  "language_info": {
   "codemirror_mode": {
    "name": "ipython",
    "version": 3
   },
   "file_extension": ".py",
   "mimetype": "text/x-python",
   "name": "python",
   "nbconvert_exporter": "python",
   "pygments_lexer": "ipython3",
   "version": "3.9.1"
  }
 },
 "nbformat": 4,
 "nbformat_minor": 4
}
